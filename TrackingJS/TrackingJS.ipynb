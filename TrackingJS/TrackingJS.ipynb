{
 "cells": [
  {
   "cell_type": "markdown",
   "id": "42dd0e5d",
   "metadata": {},
   "source": [
    "The goal of the project is to use Machine Learning algorithms to track Functional JavaScript codes.\n",
    "The dataset given for the project contains JavaScript source codes: - Folder 1 contains JS source\n",
    "codes used in tracking user activity while surfing - Folder 2 contains useful JS source codes used\n",
    "to enable the functioning of web applications. The goal of the project is to process the data given,\n",
    "extract features from it and use it to train listed clasifier models. The models should then be\n",
    "tested: see how they perform when it comes to predicting whether fed in data contains tracking JS\n",
    "or functional JS codes."
   ]
  },
  {
   "cell_type": "code",
   "execution_count": 1,
   "id": "c2f6386f",
   "metadata": {},
   "outputs": [],
   "source": [
    "from __future__ import division\n",
    "from sklearn.naive_bayes import MultinomialNB\n",
    "from sklearn.feature_extraction.text import TfidfVectorizer\n",
    "from sklearn import metrics\n",
    "from operator import itemgetter\n",
    "from sklearn.metrics import classification_report\n",
    "import csv, os, codecs, fnmatch\n",
    "import numpy as np\n",
    "from sklearn import metrics\n",
    "from sklearn import svm\n",
    "from sklearn.model_selection import train_test_split\n",
    "import pandas as pd\n"
   ]
  },
  {
   "cell_type": "code",
   "execution_count": 2,
   "id": "f292e363",
   "metadata": {},
   "outputs": [],
   "source": [
    "import warnings\n",
    "warnings.filterwarnings('ignore')"
   ]
  },
  {
   "cell_type": "code",
   "execution_count": null,
   "id": "0f06abae",
   "metadata": {},
   "outputs": [],
   "source": [
    "usefulJSpaths = [] \n",
    "usefulJSfiles = [] \n",
    "rusefulJSfiles = [] \n",
    "n_features = 190\n",
    "\n",
    "gmv = 0.001 # 0.001 # 0.05 # 0.1 # 0.5 # 0.1, 0.05, 0.01, 0.005, 0.001\n",
    "nuv = 0.001 # 0.1, 0.05, 0.01, 0.005, 0.001\n",
    "\n",
    "for root, dirnames, filenames, in os.walk('functionalJS'):\n",
    "    for filename in fnmatch.filter(filenames, \"*.js\"):\n",
    "        usefulJSfiles.append(filename)\n",
    "        usefulJSpaths.append(os.path.join(root, filename))\n",
    "        try:\n",
    "            with codecs.open(os.path.join(root, filename), encoding=\"ISO-8859-1\") as f: \n",
    "                rusefulJSfiles.append(str(f.read())) \n",
    "            except IOError as exc:\n",
    "            if exc.errno != errno.EISDIR: \n",
    "                raise \n",
    "\n",
    "uselessJSpaths = [] \n",
    "uselessJSfiles = [] \n",
    "ruselessJSfiles = []\n",
    "\n",
    "\n",
    "for ulessroot, ulessdirnames, ulessfilenames, in os.walk('trackingJS'):\n",
    "    for filename in fnmatch.filter(ulessfilenames, \"*.js\"):\n",
    "        uselessJSfiles.append(filename)\n",
    "        uselessJSpaths.append(os.path.join(ulessroot, filename))\n",
    "        try:\n",
    "            with codecs.open(os.path.join(ulessroot, filename), encoding=\"ISO-8859-1\") as f: \n",
    "                ruselessJSfiles.append(str(f.read())) \n",
    "            except IOError as exc:\n",
    "            if exc.errno != errno.EISDIR: \n",
    "                raise \n"
   ]
  },
  {
   "cell_type": "code",
   "execution_count": 30,
   "id": "49ffaae9",
   "metadata": {},
   "outputs": [],
   "source": [
    "# Converting data to dataframe and encoding. \n",
    "# .....1 for functional JS code (useful JS code)\n",
    "# .....0 for tracking JS code (useless JS code)\n",
    "\n",
    "df_functional = pd.DataFrame(rusefulJSfiles, columns = ['code'])\n",
    "df_functional['label'] = 1\n",
    "df_tracking = pd.DataFrame(ruselessJSfiles, columns = ['code'])\n",
    "df_tracking['label'] = 0"
   ]
  },
  {
   "cell_type": "code",
   "execution_count": 31,
   "id": "a8ec683e",
   "metadata": {},
   "outputs": [
    {
     "data": {
      "text/html": [
       "<div>\n",
       "<style scoped>\n",
       "    .dataframe tbody tr th:only-of-type {\n",
       "        vertical-align: middle;\n",
       "    }\n",
       "\n",
       "    .dataframe tbody tr th {\n",
       "        vertical-align: top;\n",
       "    }\n",
       "\n",
       "    .dataframe thead th {\n",
       "        text-align: right;\n",
       "    }\n",
       "</style>\n",
       "<table border=\"1\" class=\"dataframe\">\n",
       "  <thead>\n",
       "    <tr style=\"text-align: right;\">\n",
       "      <th></th>\n",
       "      <th>code</th>\n",
       "      <th>label</th>\n",
       "    </tr>\n",
       "  </thead>\n",
       "  <tbody>\n",
       "    <tr>\n",
       "      <th>0</th>\n",
       "      <td>Type.registerNamespace('AjaxControlToolkit');\\...</td>\n",
       "      <td>1</td>\n",
       "    </tr>\n",
       "    <tr>\n",
       "      <th>1</th>\n",
       "      <td>function getQueryValue(n, t) {\\n    var r = ne...</td>\n",
       "      <td>1</td>\n",
       "    </tr>\n",
       "    <tr>\n",
       "      <th>2</th>\n",
       "      <td>(function(e, f) {\\n    var a = f.location.hash...</td>\n",
       "      <td>1</td>\n",
       "    </tr>\n",
       "    <tr>\n",
       "      <th>3</th>\n",
       "      <td>/*!\\n * jQuery Form Plugin\\n * version: 3.51.0...</td>\n",
       "      <td>1</td>\n",
       "    </tr>\n",
       "    <tr>\n",
       "      <th>4</th>\n",
       "      <td>ServerJSQueue.add(function(){requireLazy([\"Boo...</td>\n",
       "      <td>1</td>\n",
       "    </tr>\n",
       "  </tbody>\n",
       "</table>\n",
       "</div>"
      ],
      "text/plain": [
       "                                                code  label\n",
       "0  Type.registerNamespace('AjaxControlToolkit');\\...      1\n",
       "1  function getQueryValue(n, t) {\\n    var r = ne...      1\n",
       "2  (function(e, f) {\\n    var a = f.location.hash...      1\n",
       "3  /*!\\n * jQuery Form Plugin\\n * version: 3.51.0...      1\n",
       "4  ServerJSQueue.add(function(){requireLazy([\"Boo...      1"
      ]
     },
     "execution_count": 31,
     "metadata": {},
     "output_type": "execute_result"
    }
   ],
   "source": [
    "# preview\n",
    "df_functional.head(5)"
   ]
  },
  {
   "cell_type": "code",
   "execution_count": 191,
   "id": "578e162f",
   "metadata": {},
   "outputs": [
    {
     "data": {
      "text/html": [
       "<div>\n",
       "<style scoped>\n",
       "    .dataframe tbody tr th:only-of-type {\n",
       "        vertical-align: middle;\n",
       "    }\n",
       "\n",
       "    .dataframe tbody tr th {\n",
       "        vertical-align: top;\n",
       "    }\n",
       "\n",
       "    .dataframe thead th {\n",
       "        text-align: right;\n",
       "    }\n",
       "</style>\n",
       "<table border=\"1\" class=\"dataframe\">\n",
       "  <thead>\n",
       "    <tr style=\"text-align: right;\">\n",
       "      <th></th>\n",
       "      <th>code</th>\n",
       "      <th>label</th>\n",
       "    </tr>\n",
       "  </thead>\n",
       "  <tbody>\n",
       "    <tr>\n",
       "      <th>0</th>\n",
       "      <td>var d16gCollapse=true;frameElement.parentNode....</td>\n",
       "      <td>0</td>\n",
       "    </tr>\n",
       "    <tr>\n",
       "      <th>1</th>\n",
       "      <td>(function(i,s,o,g,r,a,m){i['GoogleAnalyticsObj...</td>\n",
       "      <td>0</td>\n",
       "    </tr>\n",
       "    <tr>\n",
       "      <th>2</th>\n",
       "      <td>var urchinTracker=function(){},_gaq={push:func...</td>\n",
       "      <td>0</td>\n",
       "    </tr>\n",
       "    <tr>\n",
       "      <th>3</th>\n",
       "      <td>(function () {\\n    var scheme = ((\"https:\" ==...</td>\n",
       "      <td>0</td>\n",
       "    </tr>\n",
       "    <tr>\n",
       "      <th>4</th>\n",
       "      <td>window.NREUM||(NREUM={});NREUM.info={\"beacon\":...</td>\n",
       "      <td>0</td>\n",
       "    </tr>\n",
       "  </tbody>\n",
       "</table>\n",
       "</div>"
      ],
      "text/plain": [
       "                                                code  label\n",
       "0  var d16gCollapse=true;frameElement.parentNode....      0\n",
       "1  (function(i,s,o,g,r,a,m){i['GoogleAnalyticsObj...      0\n",
       "2  var urchinTracker=function(){},_gaq={push:func...      0\n",
       "3  (function () {\\n    var scheme = ((\"https:\" ==...      0\n",
       "4  window.NREUM||(NREUM={});NREUM.info={\"beacon\":...      0"
      ]
     },
     "execution_count": 191,
     "metadata": {},
     "output_type": "execute_result"
    }
   ],
   "source": [
    "#preview\n",
    "df_tracking.head(5)"
   ]
  },
  {
   "cell_type": "code",
   "execution_count": 192,
   "id": "40447dee",
   "metadata": {},
   "outputs": [
    {
     "data": {
      "text/html": [
       "<div>\n",
       "<style scoped>\n",
       "    .dataframe tbody tr th:only-of-type {\n",
       "        vertical-align: middle;\n",
       "    }\n",
       "\n",
       "    .dataframe tbody tr th {\n",
       "        vertical-align: top;\n",
       "    }\n",
       "\n",
       "    .dataframe thead th {\n",
       "        text-align: right;\n",
       "    }\n",
       "</style>\n",
       "<table border=\"1\" class=\"dataframe\">\n",
       "  <thead>\n",
       "    <tr style=\"text-align: right;\">\n",
       "      <th></th>\n",
       "      <th>code</th>\n",
       "      <th>label</th>\n",
       "    </tr>\n",
       "  </thead>\n",
       "  <tbody>\n",
       "    <tr>\n",
       "      <th>1484</th>\n",
       "      <td>/* 30,79,6 2013-07-18 18:23:53 */\\n\\nfunction ...</td>\n",
       "      <td>0</td>\n",
       "    </tr>\n",
       "    <tr>\n",
       "      <th>1485</th>\n",
       "      <td>(function() {\\n    var bds = window.bds || {};...</td>\n",
       "      <td>0</td>\n",
       "    </tr>\n",
       "    <tr>\n",
       "      <th>1486</th>\n",
       "      <td>\\n    (function($){\\n        var winWidth = $(...</td>\n",
       "      <td>0</td>\n",
       "    </tr>\n",
       "    <tr>\n",
       "      <th>1487</th>\n",
       "      <td>var AF_initDataKeys = []\\n; var AF_dataService...</td>\n",
       "      <td>0</td>\n",
       "    </tr>\n",
       "    <tr>\n",
       "      <th>1488</th>\n",
       "      <td>_satellite.pushAsyncScript(function(event, tar...</td>\n",
       "      <td>0</td>\n",
       "    </tr>\n",
       "  </tbody>\n",
       "</table>\n",
       "</div>"
      ],
      "text/plain": [
       "                                                   code  label\n",
       "1484  /* 30,79,6 2013-07-18 18:23:53 */\\n\\nfunction ...      0\n",
       "1485  (function() {\\n    var bds = window.bds || {};...      0\n",
       "1486  \\n    (function($){\\n        var winWidth = $(...      0\n",
       "1487  var AF_initDataKeys = []\\n; var AF_dataService...      0\n",
       "1488  _satellite.pushAsyncScript(function(event, tar...      0"
      ]
     },
     "execution_count": 192,
     "metadata": {},
     "output_type": "execute_result"
    }
   ],
   "source": [
    "# concat the two dataframes together\n",
    "df = pd.concat([df_functional, df_tracking]) \n",
    "df.tail(5)"
   ]
  },
  {
   "cell_type": "code",
   "execution_count": 193,
   "id": "4be92830",
   "metadata": {},
   "outputs": [],
   "source": [
    "X = df['code'].values\n",
    "y = df['label'].values"
   ]
  },
  {
   "cell_type": "markdown",
   "id": "e7c73ad5",
   "metadata": {},
   "source": [
    "#### Feature Extraction Using TF-IDF Vectorization"
   ]
  },
  {
   "cell_type": "code",
   "execution_count": 194,
   "id": "c35d813e",
   "metadata": {},
   "outputs": [],
   "source": [
    "vectorizer = TfidfVectorizer()\n",
    "X = vectorizer.fit_transform(X)"
   ]
  },
  {
   "cell_type": "code",
   "execution_count": 195,
   "id": "98370fdb",
   "metadata": {},
   "outputs": [
    {
     "data": {
      "text/plain": [
       "(2612, 419068)"
      ]
     },
     "execution_count": 195,
     "metadata": {},
     "output_type": "execute_result"
    }
   ],
   "source": [
    "X.shape"
   ]
  },
  {
   "cell_type": "markdown",
   "id": "ba747404",
   "metadata": {},
   "source": [
    "#### Feature Reduction Using SelectKBest"
   ]
  },
  {
   "cell_type": "code",
   "execution_count": 197,
   "id": "a0abd33e",
   "metadata": {},
   "outputs": [],
   "source": [
    "from sklearn.feature_selection import SelectKBest\n",
    "\n",
    "X = SelectKBest(k=50000).fit_transform(X, df['label'])"
   ]
  },
  {
   "cell_type": "code",
   "execution_count": 198,
   "id": "8d45e70b",
   "metadata": {},
   "outputs": [
    {
     "data": {
      "text/plain": [
       "(2612, 50000)"
      ]
     },
     "execution_count": 198,
     "metadata": {},
     "output_type": "execute_result"
    }
   ],
   "source": [
    "X.shape"
   ]
  },
  {
   "cell_type": "markdown",
   "id": "f47bf980",
   "metadata": {},
   "source": [
    "#### Splitting data"
   ]
  },
  {
   "cell_type": "code",
   "execution_count": 199,
   "id": "dd255be0",
   "metadata": {},
   "outputs": [],
   "source": [
    "X_train, X_test, y_train, y_test = train_test_split(X, y, train_size=0.70, random_state=40)"
   ]
  },
  {
   "cell_type": "markdown",
   "id": "eb167dad",
   "metadata": {},
   "source": [
    "### Modeling"
   ]
  },
  {
   "cell_type": "markdown",
   "id": "54eb1ea6",
   "metadata": {},
   "source": [
    "##### Baseline SVM (SVC)"
   ]
  },
  {
   "cell_type": "code",
   "execution_count": 200,
   "id": "36296101",
   "metadata": {},
   "outputs": [
    {
     "name": "stdout",
     "output_type": "stream",
     "text": [
      "              precision    recall  f1-score   support\n",
      "\n",
      "           0       0.81      0.84      0.83       445\n",
      "           1       0.79      0.74      0.76       339\n",
      "\n",
      "    accuracy                           0.80       784\n",
      "   macro avg       0.80      0.79      0.80       784\n",
      "weighted avg       0.80      0.80      0.80       784\n",
      "\n"
     ]
    }
   ],
   "source": [
    "from sklearn.svm import SVC\n",
    "\n",
    "clf = SVC()\n",
    "clf.fit(X_train, y_train)\n",
    "y_pred= clf.predict(X_test)\n",
    "print(classification_report(y_test, y_pred))"
   ]
  },
  {
   "cell_type": "markdown",
   "id": "6d8fae26",
   "metadata": {},
   "source": [
    "##### OneClassSVM"
   ]
  },
  {
   "cell_type": "code",
   "execution_count": 77,
   "id": "7ecbb7bf",
   "metadata": {},
   "outputs": [],
   "source": [
    "from sklearn.svm import OneClassSVM"
   ]
  },
  {
   "cell_type": "markdown",
   "id": "5616712c",
   "metadata": {},
   "source": [
    "RBF Kernel"
   ]
  },
  {
   "cell_type": "code",
   "execution_count": 175,
   "id": "cbb3d3ba",
   "metadata": {},
   "outputs": [
    {
     "name": "stdout",
     "output_type": "stream",
     "text": [
      "              precision    recall  f1-score   support\n",
      "\n",
      "          -1       0.00      0.00      0.00         0\n",
      "           0       0.00      0.00      0.00       445\n",
      "           1       0.37      0.48      0.42       339\n",
      "\n",
      "    accuracy                           0.21       784\n",
      "   macro avg       0.12      0.16      0.14       784\n",
      "weighted avg       0.16      0.21      0.18       784\n",
      "\n"
     ]
    }
   ],
   "source": [
    "clf = OneClassSVM(kernel='rbf',degree=3 , gamma='scale', coef0=0.05, tol=0.001 , nu=.3)\n",
    "clf.fit(X_train)\n",
    "y_pred = clf.predict(X_test)\n",
    "print(classification_report(y_test, y_pred))"
   ]
  },
  {
   "cell_type": "markdown",
   "id": "ed7f3cd9",
   "metadata": {},
   "source": [
    "Linear Kernel"
   ]
  },
  {
   "cell_type": "code",
   "execution_count": 164,
   "id": "bc377309",
   "metadata": {},
   "outputs": [
    {
     "name": "stdout",
     "output_type": "stream",
     "text": [
      "              precision    recall  f1-score   support\n",
      "\n",
      "          -1       0.00      0.00      0.00         0\n",
      "           0       0.00      0.00      0.00       445\n",
      "           1       0.40      0.59      0.48       339\n",
      "\n",
      "    accuracy                           0.26       784\n",
      "   macro avg       0.13      0.20      0.16       784\n",
      "weighted avg       0.17      0.26      0.21       784\n",
      "\n"
     ]
    }
   ],
   "source": [
    "clf = OneClassSVM(kernel='linear',degree=1 , gamma='scale', coef0=10, tol=0.001 , nu=.3)\n",
    "clf.fit(X_train)\n",
    "y_pred = clf.predict(X_test)\n",
    "print(classification_report(y_test, y_pred))"
   ]
  },
  {
   "cell_type": "markdown",
   "id": "9591499d",
   "metadata": {},
   "source": [
    "Poly Kernel"
   ]
  },
  {
   "cell_type": "code",
   "execution_count": 180,
   "id": "de0c1b85",
   "metadata": {},
   "outputs": [
    {
     "name": "stdout",
     "output_type": "stream",
     "text": [
      "              precision    recall  f1-score   support\n",
      "\n",
      "          -1       0.00      0.00      0.00         0\n",
      "           0       0.00      0.00      0.00       445\n",
      "           1       0.42      0.94      0.58       339\n",
      "\n",
      "    accuracy                           0.40       784\n",
      "   macro avg       0.14      0.31      0.19       784\n",
      "weighted avg       0.18      0.40      0.25       784\n",
      "\n"
     ]
    }
   ],
   "source": [
    "clf = OneClassSVM(kernel='poly',degree=3 , gamma='auto', coef0=10, tol=0.001 , nu=.3 )\n",
    "clf.fit(X_train)\n",
    "y_pred = clf.predict(X_test)\n",
    "print(classification_report(y_test, y_pred))"
   ]
  },
  {
   "cell_type": "markdown",
   "id": "c740a9ba",
   "metadata": {},
   "source": [
    "Sigmoid Kernel"
   ]
  },
  {
   "cell_type": "code",
   "execution_count": 179,
   "id": "736b7322",
   "metadata": {},
   "outputs": [
    {
     "name": "stdout",
     "output_type": "stream",
     "text": [
      "              precision    recall  f1-score   support\n",
      "\n",
      "          -1       0.00      0.00      0.00         0\n",
      "           0       0.00      0.00      0.00       445\n",
      "           1       0.40      0.59      0.47       339\n",
      "\n",
      "    accuracy                           0.26       784\n",
      "   macro avg       0.13      0.20      0.16       784\n",
      "weighted avg       0.17      0.26      0.21       784\n",
      "\n"
     ]
    }
   ],
   "source": [
    "clf = OneClassSVM(kernel='sigmoid',degree=3 , gamma=.12, coef0=0.9, tol=0.001 , nu=.3 )\n",
    "clf.fit(X_train)\n",
    "y_pred = clf.predict(X_test)\n",
    "print(classification_report(y_test, y_pred))"
   ]
  },
  {
   "cell_type": "code",
   "execution_count": null,
   "id": "b9e12e01",
   "metadata": {},
   "outputs": [],
   "source": []
  }
 ],
 "metadata": {
  "kernelspec": {
   "display_name": "Python 3 (ipykernel)",
   "language": "python",
   "name": "python3"
  },
  "language_info": {
   "codemirror_mode": {
    "name": "ipython",
    "version": 3
   },
   "file_extension": ".py",
   "mimetype": "text/x-python",
   "name": "python",
   "nbconvert_exporter": "python",
   "pygments_lexer": "ipython3",
   "version": "3.9.9"
  }
 },
 "nbformat": 4,
 "nbformat_minor": 5
}
